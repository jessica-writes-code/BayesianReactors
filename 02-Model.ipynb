{
 "cells": [
  {
   "cell_type": "code",
   "execution_count": null,
   "id": "525683e7",
   "metadata": {},
   "outputs": [],
   "source": [
    "import numpy as np\n",
    "import pandas as pd\n",
    "import plotly.express as px\n",
    "import plotly.graph_objects as go\n",
    "import numpy as np\n",
    "from scipy import stats"
   ]
  },
  {
   "cell_type": "code",
   "execution_count": null,
   "id": "4342c5c5",
   "metadata": {},
   "outputs": [],
   "source": [
    "df = pd.read_pickle('./data/processed/counts_df.pkl')\n",
    "df.head()"
   ]
  },
  {
   "cell_type": "markdown",
   "id": "73a6d3ec",
   "metadata": {},
   "source": [
    "## Exploratory Data Analysis"
   ]
  },
  {
   "cell_type": "markdown",
   "id": "c9462913",
   "metadata": {},
   "source": [
    "### Capacity (MWe)"
   ]
  },
  {
   "cell_type": "code",
   "execution_count": null,
   "id": "187794a2",
   "metadata": {},
   "outputs": [],
   "source": [
    "fig = px.histogram(df['capacity (MWe)'])\n",
    "fig.update_layout(\n",
    "    width=750,\n",
    "    height=500,\n",
    "    template='plotly_white',\n",
    "    xaxis_title='Capacity (MWe)',\n",
    "    yaxis_title='Count',\n",
    "    showlegend=False,\n",
    ")\n",
    "fig.show()"
   ]
  },
  {
   "cell_type": "markdown",
   "id": "39daa850",
   "metadata": {},
   "source": [
    "### Scrams"
   ]
  },
  {
   "cell_type": "code",
   "execution_count": null,
   "id": "dfd71128",
   "metadata": {},
   "outputs": [],
   "source": [
    "# Actual Counts\n",
    "hist_x, hist_y = [], []\n",
    "for cnt in range(0, max(df['scrams']) + 1):\n",
    "    hist_x.append(cnt)\n",
    "    hist_y.append(len(df[df['scrams'] == cnt]))\n",
    "hist_x, hist_y\n",
    "\n",
    "# Theoretical Counts\n",
    "lambda_ = np.mean(df['scrams'])\n",
    "theory_y = [stats.poisson.pmf(x, mu=lambda_)*len(df) for x in hist_x]\n",
    "\n",
    "# Figure\n",
    "fig = go.Figure()\n",
    "fig.add_trace(\n",
    "    go.Bar(x=hist_x, y=hist_y, name='Empirical')\n",
    ")\n",
    "fig.add_trace(\n",
    "    go.Bar(x=hist_x, y=theory_y, name=f'Poisson, lambda={lambda_:.2f}')\n",
    ")\n",
    "fig.update_layout(\n",
    "    width=750,\n",
    "    height=500,\n",
    "    template='plotly_white',\n",
    "    xaxis_title='Scrams',\n",
    "    yaxis_title='Count',\n",
    "    title='Empirical and Theoretical Count Distributions',\n",
    "    legend=dict(\n",
    "        yanchor=\"top\",\n",
    "        y=1.0,\n",
    "        xanchor=\"left\",\n",
    "        x=0.65\n",
    "    )\n",
    ")\n",
    "fig.show()"
   ]
  }
 ],
 "metadata": {
  "kernelspec": {
   "display_name": "Python 3 (ipykernel)",
   "language": "python",
   "name": "python3"
  },
  "language_info": {
   "codemirror_mode": {
    "name": "ipython",
    "version": 3
   },
   "file_extension": ".py",
   "mimetype": "text/x-python",
   "name": "python",
   "nbconvert_exporter": "python",
   "pygments_lexer": "ipython3",
   "version": "3.9.12"
  }
 },
 "nbformat": 4,
 "nbformat_minor": 5
}
