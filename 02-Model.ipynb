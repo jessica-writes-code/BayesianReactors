{
 "cells": [
  {
   "cell_type": "code",
   "execution_count": null,
   "id": "525683e7",
   "metadata": {},
   "outputs": [],
   "source": [
    "import arviz as az\n",
    "import numpy as np\n",
    "import pandas as pd\n",
    "import plotly.express as px\n",
    "import plotly.graph_objects as go\n",
    "import pymc as pm\n",
    "import numpy as np\n",
    "from scipy import stats"
   ]
  },
  {
   "cell_type": "code",
   "execution_count": null,
   "id": "4342c5c5",
   "metadata": {},
   "outputs": [],
   "source": [
    "df = pd.read_pickle('./data/processed/counts_df.pkl')\n",
    "df.head()"
   ]
  },
  {
   "cell_type": "code",
   "execution_count": null,
   "id": "8650ce50",
   "metadata": {},
   "outputs": [],
   "source": [
    "df['name_concat'] = df['name'].apply( lambda x: ' '.join([y for y in x if y is not None]) )\n",
    "df['year_after_2011'] = df.year - 2011\n",
    "df.head()"
   ]
  },
  {
   "cell_type": "markdown",
   "id": "73a6d3ec",
   "metadata": {},
   "source": [
    "## Exploratory Data Analysis"
   ]
  },
  {
   "cell_type": "markdown",
   "id": "c9462913",
   "metadata": {},
   "source": [
    "### Capacity (MWe)"
   ]
  },
  {
   "cell_type": "code",
   "execution_count": null,
   "id": "187794a2",
   "metadata": {},
   "outputs": [],
   "source": [
    "fig = px.histogram(df['production (MWe)'])\n",
    "fig.update_layout(\n",
    "    width=750,\n",
    "    height=300,\n",
    "    template='plotly_white',\n",
    "    xaxis_title='Production (MWe)',\n",
    "    yaxis_title='Count',\n",
    "    showlegend=False,\n",
    "    font_size=18,\n",
    ")\n",
    "fig.show()"
   ]
  },
  {
   "cell_type": "markdown",
   "id": "39daa850",
   "metadata": {},
   "source": [
    "### Scrams"
   ]
  },
  {
   "cell_type": "code",
   "execution_count": null,
   "id": "dfd71128",
   "metadata": {},
   "outputs": [],
   "source": [
    "# Actual Counts\n",
    "hist_x, hist_y = [], []\n",
    "for cnt in range(0, max(df['scrams']) + 1):\n",
    "    hist_x.append(cnt)\n",
    "    hist_y.append(len(df[df['scrams'] == cnt]))\n",
    "hist_x, hist_y\n",
    "\n",
    "# Theoretical Counts\n",
    "lambda_ = np.mean(df['scrams'])\n",
    "theory_y = [stats.poisson.pmf(x, mu=lambda_)*len(df) for x in hist_x]\n",
    "\n",
    "# Figure\n",
    "fig = go.Figure()\n",
    "fig.add_trace(\n",
    "    go.Bar(x=hist_x, y=hist_y, name='Empirical')\n",
    ")\n",
    "fig.add_trace(\n",
    "    go.Bar(x=hist_x, y=theory_y, name=f'Poisson({lambda_:.2f})')\n",
    ")\n",
    "fig.update_layout(\n",
    "    width=750,\n",
    "    height=400,\n",
    "    template='plotly_white',\n",
    "    xaxis_title='Scrams',\n",
    "    yaxis_title='Count',\n",
    "    legend=dict(\n",
    "        yanchor=\"top\",\n",
    "        y=1.0,\n",
    "        xanchor=\"left\",\n",
    "        x=0.65\n",
    "    ),\n",
    "    font_size=18,\n",
    ")\n",
    "fig.show()"
   ]
  },
  {
   "cell_type": "markdown",
   "id": "8108a72a",
   "metadata": {},
   "source": [
    "## Model"
   ]
  },
  {
   "cell_type": "code",
   "execution_count": null,
   "id": "ad2b2c6b",
   "metadata": {},
   "outputs": [],
   "source": [
    "reactor_idxs, reactors = pd.factorize(df.name_concat)\n",
    "coords = {\n",
    "    \"reactors\": reactors,\n",
    "    \"obs_id\": np.arange(len(reactor_idxs)),\n",
    "}"
   ]
  },
  {
   "cell_type": "code",
   "execution_count": null,
   "id": "8ececb60",
   "metadata": {},
   "outputs": [],
   "source": [
    "with pm.Model(coords=coords) as hierarchical_model:\n",
    "    \n",
    "    reactor_idx = pm.ConstantData(\"reactor_idx\", reactor_idxs, dims=\"obs_id\")\n",
    "    \n",
    "    # Priors for coefficients\n",
    "    mu_b1 = pm.Normal(\"mu_b1\", mu=0.0, sigma=0.2**2 )\n",
    "    sigma_b1 = pm.InverseGamma(\"sigma_b1\", alpha=1, beta=1)\n",
    "    \n",
    "    mu_b2 = pm.Normal(\"mu_b2\", mu=0.0, sigma=10**6)\n",
    "    sigma_b2 = pm.InverseGamma(\"sigma_b2\", alpha=1, beta=1)\n",
    "    \n",
    "    # Coefficients\n",
    "    b_1 = pm.Normal(\"b1\", mu=mu_b1, sigma=sigma_b1, dims=\"reactors\")\n",
    "    b_2 = pm.Normal(\"b2\", mu=mu_b2, sigma=sigma_b2, dims=\"reactors\")\n",
    "    \n",
    "    # - Zero-inflation Probability\n",
    "    psi_est = 1 / ( 1 + pm.math.exp( -b_1[reactor_idx] ) )\n",
    "    \n",
    "    # - Poisson Rate\n",
    "    mu_est = pm.math.exp( b_2[reactor_idx] )\n",
    "    \n",
    "    # Data Likelihood\n",
    "    scram_likelihood = pm.ZeroInflatedPoisson(\n",
    "        \"scram_likelihood\", psi=psi_est, mu=mu_est, observed=df.scrams.values, dims=\"obs_id\",\n",
    "    )\n",
    "    \n",
    "pm.model_to_graphviz(hierarchical_model)"
   ]
  },
  {
   "cell_type": "code",
   "execution_count": null,
   "id": "c5edce1f",
   "metadata": {},
   "outputs": [],
   "source": [
    "# Inference\n",
    "with hierarchical_model:\n",
    "    hierarchical_trace = pm.sample(\n",
    "        10_000,\n",
    "        tune=2_000,\n",
    "        chains=4,\n",
    "        target_accept=0.9,\n",
    "    )"
   ]
  },
  {
   "cell_type": "markdown",
   "id": "0b3dec5d",
   "metadata": {},
   "source": [
    "### Trace Plots"
   ]
  },
  {
   "cell_type": "code",
   "execution_count": null,
   "id": "b03487fe",
   "metadata": {},
   "outputs": [],
   "source": [
    "az.plot_trace(hierarchical_trace, var_names=[\"mu_b1\", \"mu_b2\"])"
   ]
  },
  {
   "cell_type": "code",
   "execution_count": null,
   "id": "4c92a4db",
   "metadata": {},
   "outputs": [],
   "source": [
    "az.plot_trace(hierarchical_trace, var_names=[\"sigma_b1\", \"sigma_b2\"])"
   ]
  },
  {
   "cell_type": "code",
   "execution_count": null,
   "id": "f2d877cd",
   "metadata": {},
   "outputs": [],
   "source": [
    "az.plot_trace(hierarchical_trace, var_names=[\"b1\", \"b2\"])"
   ]
  },
  {
   "cell_type": "markdown",
   "id": "1503a196",
   "metadata": {},
   "source": [
    "### Autocorrelation Plot"
   ]
  },
  {
   "cell_type": "code",
   "execution_count": null,
   "id": "d5344eaf",
   "metadata": {},
   "outputs": [],
   "source": [
    "az.plot_autocorr(hierarchical_trace, var_names=['mu_b1', 'mu_b2'], combined=True)"
   ]
  },
  {
   "cell_type": "code",
   "execution_count": null,
   "id": "fa4631c3",
   "metadata": {},
   "outputs": [],
   "source": [
    "az.plot_autocorr(hierarchical_trace, var_names=[\"sigma_b1\", \"sigma_b2\"], combined=True)"
   ]
  },
  {
   "cell_type": "markdown",
   "id": "6856cae5",
   "metadata": {},
   "source": [
    "## Results"
   ]
  },
  {
   "cell_type": "code",
   "execution_count": null,
   "id": "93bc6643",
   "metadata": {},
   "outputs": [],
   "source": [
    "distributions / interpretations of mu_b1, mu_b2\n",
    "\n",
    "means of various b1s, b2s -- show if some are much higher\n",
    "- compare to reality"
   ]
  }
 ],
 "metadata": {
  "kernelspec": {
   "display_name": "Python 3 (ipykernel)",
   "language": "python",
   "name": "python3"
  },
  "language_info": {
   "codemirror_mode": {
    "name": "ipython",
    "version": 3
   },
   "file_extension": ".py",
   "mimetype": "text/x-python",
   "name": "python",
   "nbconvert_exporter": "python",
   "pygments_lexer": "ipython3",
   "version": "3.9.12"
  }
 },
 "nbformat": 4,
 "nbformat_minor": 5
}
