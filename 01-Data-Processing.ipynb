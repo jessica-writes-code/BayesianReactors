{
 "cells": [
  {
   "cell_type": "markdown",
   "id": "a3521105",
   "metadata": {},
   "source": [
    "# Data Processing"
   ]
  },
  {
   "cell_type": "code",
   "execution_count": null,
   "id": "3c195d63",
   "metadata": {},
   "outputs": [],
   "source": [
    "import pandas as pd\n",
    "\n",
    "from src import data_processing"
   ]
  },
  {
   "cell_type": "code",
   "execution_count": null,
   "id": "06888542",
   "metadata": {},
   "outputs": [],
   "source": [
    "MIN_YEAR = 2011\n",
    "MAX_YEAR = 2021"
   ]
  },
  {
   "cell_type": "markdown",
   "id": "60af54a2",
   "metadata": {},
   "source": [
    "## Load Data Sets"
   ]
  },
  {
   "cell_type": "code",
   "execution_count": null,
   "id": "f5802949",
   "metadata": {},
   "outputs": [],
   "source": [
    "reactors_df = pd.read_excel('./data/raw/reactors-operating.xlsx')\n",
    "display(reactors_df.head())"
   ]
  },
  {
   "cell_type": "code",
   "execution_count": null,
   "id": "2d6f15be",
   "metadata": {},
   "outputs": [],
   "source": [
    "decom_reactors_df = pd.read_excel('./data/raw/reactors-decommissioning.xlsx')\n",
    "display(decom_reactors_df.head())"
   ]
  },
  {
   "cell_type": "code",
   "execution_count": null,
   "id": "ea7f1d95",
   "metadata": {},
   "outputs": [],
   "source": [
    "scram_df = pd.read_excel('./data/raw/scram-event-notifications.xlsx')\n",
    "display(scram_df.head())"
   ]
  },
  {
   "cell_type": "markdown",
   "id": "6b751fb3",
   "metadata": {},
   "source": [
    "## Aggregate Scrams"
   ]
  },
  {
   "cell_type": "code",
   "execution_count": null,
   "id": "bf45be0e",
   "metadata": {},
   "outputs": [],
   "source": [
    "scram_agg = scram_df[\n",
    "    ['Year ', 'Plant Name', 'Scram #']\n",
    "].groupby(\n",
    "    ['Year ', 'Plant Name'], as_index=False\n",
    ").count()\n",
    "scram_agg = scram_agg.rename(\n",
    "    columns={'Year ': 'year', 'Plant Name': 'plant', 'Scram #': 'scrams'}\n",
    ")\n",
    "\n",
    "scram_agg['plant'] = scram_agg['plant'].str.strip()\n",
    "scram_agg = scram_agg[scram_agg['year'] >= MIN_YEAR]\n",
    "scram_agg = scram_agg[scram_agg['year'] <= MAX_YEAR]\n",
    "\n",
    "display(scram_agg.head())"
   ]
  },
  {
   "cell_type": "markdown",
   "id": "f022f15b",
   "metadata": {},
   "source": [
    "## Create Final Count DataFrame"
   ]
  },
  {
   "cell_type": "code",
   "execution_count": null,
   "id": "7f6b2ac3",
   "metadata": {},
   "outputs": [],
   "source": [
    "scram_count_records = []\n",
    "\n",
    "# Plants in operation\n",
    "for year in range(MIN_YEAR, MAX_YEAR + 1):\n",
    "    for i, row in reactors_df.iterrows():\n",
    "        scram_count_records.append({\n",
    "            'year': year,\n",
    "            'plant': row['Plant Name'].strip(),\n",
    "            'start operation': row['Commercial Operation'],\n",
    "            'end operation': None,\n",
    "        })\n",
    "        \n",
    "# Decommissioned plants\n",
    "for year in range(MIN_YEAR, MAX_YEAR + 1):\n",
    "    for i, row in decom_reactors_df.iterrows():\n",
    "        scram_count_records.append({\n",
    "            'year': year,\n",
    "            'plant': row['Unit'].strip(),\n",
    "            # Note: We use OL issue date to approximate operation start, as we lack precise information on\n",
    "            # operation start date for decommissioned plants\n",
    "            'start operation': row['Operating License (OL) Issued'],\n",
    "            'end operation': row['Shut Down'],\n",
    "        })\n",
    "    \n",
    "    # See: https://en.wikipedia.org/wiki/Pilgrim_Nuclear_Power_Station\n",
    "    scram_count_records.append({\n",
    "        'year': year,\n",
    "        'plant': 'Pilgrim Nuclear Power Station',\n",
    "        'start operation': pd.Timestamp(1972, 12, 1),\n",
    "        'end operation': pd.Timestamp(2019, 5, 31)\n",
    "    })\n",
    "        \n",
    "scram_count_df = pd.DataFrame(scram_count_records)\n",
    "display(scram_count_df.head())"
   ]
  },
  {
   "cell_type": "code",
   "execution_count": null,
   "id": "702a3368",
   "metadata": {},
   "outputs": [],
   "source": [
    "# Calculate % of year the plant was in operation\n",
    "# Keep only years of operation, since no scrams can happen during non-operational years\n",
    "scram_count_df['percent of year operational'] = scram_count_df.apply(\n",
    "    data_processing.percent_of_year_operational, axis=1\n",
    ")\n",
    "scram_count_df = scram_count_df[scram_count_df['percent of year operational'] > 0]\n",
    "display(scram_count_df.head())"
   ]
  },
  {
   "cell_type": "code",
   "execution_count": null,
   "id": "64222407",
   "metadata": {},
   "outputs": [],
   "source": [
    "# Merge scram counts\n",
    "# - Rename names, if necessary\n",
    "name_changes = [\n",
    "    ('Duane Arnold Energy Center', 'Duane Arnold'),\n",
    "    ('Fort Calhoun Station', 'Fort Calhoun'),\n",
    "    ('Indian Point Nuclear Generating, Unit 2', 'Indian Point 2'),\n",
    "    ('Indian Point Nuclear Generating, Unit 3', 'Indian Point 3'),\n",
    "    ('Oyster Creek Nuclear Generating Station', 'Oyster Creek'),\n",
    "    ('Turkey Point Nuclear Generating Station, Unit 3', 'Turkey Point Nuclear Generating Unit No. 3'),\n",
    "    ('Turkey Point Nuclear Generating Station, Unit 4', 'Turkey Point Nuclear Generating Unit No. 4'),\n",
    "    ('Three Mile Island Nuclear Station, Unit 1', 'Three Mile Island 1'),\n",
    "    ('San Onofre Nuclear Generating Station, Unit 2', 'San Onofre 2'),\n",
    "    ('San Onofre Nuclear Generating Station, Unit 3', 'San Onofre 3'),\n",
    "]\n",
    "for name1, name2 in name_changes:\n",
    "    scram_count_df.loc[scram_count_df['plant'] == name2, 'plant'] = name1\n",
    "\n",
    "\n",
    "scram_count_df = pd.merge(scram_count_df, scram_agg, how='left', on=['plant', 'year'])\n",
    "scram_count_df['scrams'] = scram_count_df['scrams'].fillna(0).astype(int)\n",
    "\n",
    "display(scram_count_df.head())"
   ]
  },
  {
   "cell_type": "code",
   "execution_count": null,
   "id": "dd3aedba",
   "metadata": {},
   "outputs": [],
   "source": [
    "# Clean up dataframe\n",
    "scram_count_df = scram_count_df[\n",
    "    ['plant', 'year', 'percent of year operational', 'scrams']\n",
    "].sort_values(\n",
    "    ['plant', 'year']\n",
    ").reset_index(\n",
    ").drop('index', axis=1)\n",
    "display(scram_count_df.head())"
   ]
  },
  {
   "cell_type": "code",
   "execution_count": null,
   "id": "55174782",
   "metadata": {},
   "outputs": [],
   "source": [
    "scram_count_df.to_pickle('./data/processed/count_df.pkl')"
   ]
  }
 ],
 "metadata": {
  "kernelspec": {
   "display_name": "Python 3 (ipykernel)",
   "language": "python",
   "name": "python3"
  },
  "language_info": {
   "codemirror_mode": {
    "name": "ipython",
    "version": 3
   },
   "file_extension": ".py",
   "mimetype": "text/x-python",
   "name": "python",
   "nbconvert_exporter": "python",
   "pygments_lexer": "ipython3",
   "version": "3.9.12"
  }
 },
 "nbformat": 4,
 "nbformat_minor": 5
}
