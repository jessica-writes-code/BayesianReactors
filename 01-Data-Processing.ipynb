{
 "cells": [
  {
   "cell_type": "markdown",
   "id": "a3521105",
   "metadata": {},
   "source": [
    "# Data Processing"
   ]
  },
  {
   "cell_type": "code",
   "execution_count": null,
   "id": "3c195d63",
   "metadata": {},
   "outputs": [],
   "source": [
    "from collections import Counter\n",
    "import string\n",
    "\n",
    "import pandas as pd\n",
    "\n",
    "from src import data_processing"
   ]
  },
  {
   "cell_type": "code",
   "execution_count": null,
   "id": "06888542",
   "metadata": {},
   "outputs": [],
   "source": [
    "MIN_YEAR = 2011\n",
    "MAX_YEAR = 2020\n",
    "\n",
    "PUNCTUATION = set(string.punctuation)"
   ]
  },
  {
   "cell_type": "markdown",
   "id": "60af54a2",
   "metadata": {},
   "source": [
    "## Reactor -> Power Generated"
   ]
  },
  {
   "cell_type": "code",
   "execution_count": null,
   "id": "f5802949",
   "metadata": {},
   "outputs": [],
   "source": [
    "reactors_df = pd.read_excel('./data/raw/reactors-operating.xlsx')\n",
    "reactors_df = reactors_df[[\n",
    "    'Plant Name',\n",
    "    'Capacity MWe',\n",
    "    '2020 Capacity Factor (Percent)',\n",
    "    '2019 Capacity Factor (Percent)',\n",
    "    '2018 Capacity Factor (Percent)',\n",
    "    '2017 Capacity Factor (Percent)',\n",
    "    '2016 Capacity Factor (Percent)',\n",
    "    '2015 Capacity Factor (Percent)',\n",
    "    '2014 Capacity Factor (Percent)',\n",
    "    '2013 Capacity Factor (Percent)',\n",
    "    '2012 Capacity Factor (Percent)',\n",
    "    '2011 Capacity Factor (Percent)'\n",
    "]]\n",
    "reactors_df.head()"
   ]
  },
  {
   "cell_type": "code",
   "execution_count": null,
   "id": "e485318b",
   "metadata": {},
   "outputs": [],
   "source": [
    "reactors_melt_df = pd.melt(reactors_df, id_vars=['Plant Name', 'Capacity MWe'])\n",
    "reactors_melt_df = reactors_melt_df.rename(\n",
    "    columns={\n",
    "        'Capacity MWe': 'total capacity (MWe)',\n",
    "        'Plant Name': 'name',\n",
    "        'value': 'percent of capacity',\n",
    "        'variable': 'year',\n",
    "    }\n",
    ")\n",
    "reactors_melt_df"
   ]
  },
  {
   "cell_type": "code",
   "execution_count": null,
   "id": "70afc721",
   "metadata": {},
   "outputs": [],
   "source": [
    "reactors_melt_df['year'] = reactors_melt_df['year'].str.replace(' Capacity Factor \\(Percent\\)', '').astype(int)\n",
    "\n",
    "reactors_melt_df['production (MWe)'] = reactors_melt_df['total capacity (MWe)'] * reactors_melt_df['percent of capacity']\n",
    "reactors_melt_df['production (MWe)'] = reactors_melt_df['production (MWe)'].fillna(0.0)\n",
    "reactors_melt_df = reactors_melt_df[['year', 'name', 'production (MWe)']]\n",
    "reactors_melt_df"
   ]
  },
  {
   "cell_type": "markdown",
   "id": "6a95ce3b",
   "metadata": {},
   "source": [
    "## Reactor -> Number of Scrams"
   ]
  },
  {
   "cell_type": "code",
   "execution_count": null,
   "id": "ea7f1d95",
   "metadata": {},
   "outputs": [],
   "source": [
    "scram_df = pd.read_excel('./data/raw/scram-event-notifications.xlsx')\n",
    "scram_df = scram_df[scram_df['NRC_retract_flag'] == 0]\n",
    "scram_df = scram_df[['Year ','Plant Name', 'Scram #']]\n",
    "scram_df.head()"
   ]
  },
  {
   "cell_type": "code",
   "execution_count": null,
   "id": "f41c584b",
   "metadata": {},
   "outputs": [],
   "source": [
    "scram_agg_df = scram_df.groupby(['Year ', 'Plant Name'], as_index=False).count()\n",
    "scram_agg_df = scram_agg_df.rename(\n",
    "    columns={'Year ': 'year', 'Plant Name': 'name', 'Scram #': 'scrams'}\n",
    ")\n",
    "scram_agg_df.head()"
   ]
  },
  {
   "cell_type": "markdown",
   "id": "b29c46f5",
   "metadata": {},
   "source": [
    "## Combine Data Sets"
   ]
  },
  {
   "cell_type": "code",
   "execution_count": null,
   "id": "286c7e6c",
   "metadata": {},
   "outputs": [],
   "source": [
    "words = []\n",
    "for entry in reactors_df['Plant Name'].tolist():\n",
    "    entry_nopunct = ''.join(ch for ch in entry if ch not in PUNCTUATION)\n",
    "    words.extend(entry_nopunct.upper().split())\n",
    "\n",
    "word_counter = Counter(words)\n",
    "common_words = [w for w, c in word_counter.items() if c > 10]\n",
    "common_words += ['NO']\n",
    "common_words"
   ]
  },
  {
   "cell_type": "code",
   "execution_count": null,
   "id": "08763f36",
   "metadata": {},
   "outputs": [],
   "source": [
    "reactors_melt_df['name'] = reactors_melt_df['name'].apply(data_processing.split_name_fn(common_words))\n",
    "\n",
    "reactors_melt_df = reactors_melt_df[\n",
    "    (reactors_melt_df['year'] >= MIN_YEAR)\n",
    "    & (reactors_melt_df['year'] <= MAX_YEAR)\n",
    "]\n",
    "print(len(reactors_melt_df))\n",
    "assert(reactors_melt_df.set_index(['name','year']).index.is_unique)\n",
    "reactors_melt_df.head()"
   ]
  },
  {
   "cell_type": "code",
   "execution_count": null,
   "id": "5fa2f5b3",
   "metadata": {},
   "outputs": [],
   "source": [
    "scram_agg_df['name'] = scram_agg_df['name'].apply(data_processing.split_name_fn(common_words))\n",
    "\n",
    "scram_agg_df = scram_agg_df[\n",
    "    (scram_agg_df['year'] >= MIN_YEAR)\n",
    "    & (scram_agg_df['year'] <= MAX_YEAR)\n",
    "]\n",
    "print(len(scram_agg_df))\n",
    "assert(scram_agg_df.set_index(['name','year']).index.is_unique)\n",
    "scram_agg_df.head()"
   ]
  },
  {
   "cell_type": "code",
   "execution_count": null,
   "id": "df665888",
   "metadata": {},
   "outputs": [],
   "source": [
    "merged_df = pd.merge(reactors_melt_df, scram_agg_df, how='outer', on=['name', 'year'])\n",
    "merged_df.head()"
   ]
  },
  {
   "cell_type": "code",
   "execution_count": null,
   "id": "db28d58f",
   "metadata": {},
   "outputs": [],
   "source": [
    "# Plants with scrams, but no production information\n",
    "merged_df[merged_df['production (MWe)'].isna()]['name'].unique().tolist()"
   ]
  },
  {
   "cell_type": "raw",
   "id": "e423aab1",
   "metadata": {},
   "source": [
    "# All of the above plants have been decomissioned\n",
    "('PILGRIM', None),  # Decomissioned 2019 (See: https://en.wikipedia.org/wiki/Pilgrim_Nuclear_Power_Station)\n",
    "('SAN ONOFRE', '2'),  # Decommissioned 2013\n",
    "('SAN ONOFRE', '3'),  # Decommissioned 2013\n",
    "('INDIAN POINT', '2'),  # Decommissioned 2020\n",
    "('INDIAN POINT 3', '3'),  # Decomissioned 2021\n",
    "('OYSTER CREEK', None),  # Decomissioned 2018\n",
    "('THREE MILE ISLAND', '1'),  # Decommissioned 2019\n",
    "('FORT CALHOUN', None),  # Decomissioned 2016\n",
    "('DUANE ARNOLD ENERGY CENTER', None)  # Decomissioned 2020"
   ]
  },
  {
   "cell_type": "code",
   "execution_count": null,
   "id": "c76000e6",
   "metadata": {},
   "outputs": [],
   "source": [
    "merged_df = merged_df[~merged_df['production (MWe)'].isna()]\n",
    "\n",
    "merged_df['scrams'] = merged_df['scrams'].fillna(0).astype(int)\n",
    "merged_df = merged_df[merged_df['production (MWe)'] > 0]  # Only active plant/years\n",
    "merged_df = merged_df.sort_values(['year', 'name', 'production (MWe)', 'scrams'])\n",
    "\n",
    "print(len(merged_df))\n",
    "merged_df.to_pickle('./data/processed/counts_df.pkl')\n",
    "merged_df.head()"
   ]
  }
 ],
 "metadata": {
  "kernelspec": {
   "display_name": "Python 3 (ipykernel)",
   "language": "python",
   "name": "python3"
  },
  "language_info": {
   "codemirror_mode": {
    "name": "ipython",
    "version": 3
   },
   "file_extension": ".py",
   "mimetype": "text/x-python",
   "name": "python",
   "nbconvert_exporter": "python",
   "pygments_lexer": "ipython3",
   "version": "3.9.12"
  }
 },
 "nbformat": 4,
 "nbformat_minor": 5
}
